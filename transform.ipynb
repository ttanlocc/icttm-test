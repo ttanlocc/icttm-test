{
 "cells": [
  {
   "cell_type": "markdown",
   "metadata": {},
   "source": [
    "This file will be used to contain data processing components"
   ]
  },
  {
   "cell_type": "code",
   "execution_count": null,
   "metadata": {},
   "outputs": [],
   "source": [
    "%pip install boto3 pyspark delta-spark python-dotenv"
   ]
  },
  {
   "cell_type": "code",
   "execution_count": 1,
   "metadata": {},
   "outputs": [],
   "source": [
    "import os\n",
    "from pyspark.sql import SparkSession"
   ]
  },
  {
   "cell_type": "code",
   "execution_count": 25,
   "metadata": {},
   "outputs": [],
   "source": [
    "os.environ['OBJ_STORAGE_ACCESS_KEY'] = 'WlsvIS3bB1xYKjbIZMsy'\n",
    "os.environ['OBJ_STORAGE_SECRET_KEY'] = 'BibSNsZ0y97zUXZvyiaidU1UAWf5ORBTyOC6L8B5'\n",
    "os.environ['OBJ_STORAGE_ENDPOINT'] = 'http://localhost:9000'"
   ]
  },
  {
   "cell_type": "code",
   "execution_count": 3,
   "metadata": {},
   "outputs": [],
   "source": [
    "minio_folder_path = \"data/data-result\"\n",
    "\n",
    "path_1 = \"s3a://data/data-raw/data.json\"\n",
    "path_2 = \"s3a://data/data-raw/data2.json\"\n",
    "path_3 = \"s3a://data/data-raw/data3.json\""
   ]
  },
  {
   "cell_type": "code",
   "execution_count": 4,
   "metadata": {},
   "outputs": [],
   "source": [
    "import os\n",
    "from pyspark.sql import SparkSession\n",
    "\n",
    "obj_storage_access_key = os.getenv('OBJ_STORAGE_ACCESS_KEY')\n",
    "obj_storage_secret_key = os.getenv('OBJ_STORAGE_SECRET_KEY')\n",
    "obj_storage_endpoint = os.getenv('OBJ_STORAGE_ENDPOINT')\n"
   ]
  },
  {
   "cell_type": "code",
   "execution_count": 26,
   "metadata": {},
   "outputs": [],
   "source": [
    "# You need to more configuration if you want to use minio as object storage \n",
    "# (hint: maybe you can using .config() method to set the configuration if you want using spark to read/write data from/to minio)\n",
    "spark = SparkSession \\\n",
    "    .builder \\\n",
    "    .appName(\"Python Spark SQL basic example\") \\\n",
    "    .config(\"spark.hadoop.fs.s3a.access.key\", obj_storage_access_key) \\\n",
    "    .config(\"spark.hadoop.fs.s3a.secret.key\", obj_storage_secret_key) \\\n",
    "    .config(\"spark.hadoop.fs.s3a.endpoint\", obj_storage_endpoint) \\\n",
    "    .config('spark.hadoop.fs.s3a.path.style.access', \"true\") \\\n",
    "    .config(\"spark.jars.packages\", \"org.apache.hadoop:hadoop-aws:3.4.0\") \\\n",
    "    .getOrCreate()"
   ]
  },
  {
   "cell_type": "code",
   "execution_count": 34,
   "metadata": {},
   "outputs": [],
   "source": [
    "file_1 = spark.read.json(path_1, multiLine=True)\n",
    "file_2 = spark.read.json(path_2, multiLine=True)\n",
    "file_3 = spark.read.json(path_3, multiLine=True)"
   ]
  },
  {
   "cell_type": "code",
   "execution_count": 35,
   "metadata": {},
   "outputs": [
    {
     "name": "stdout",
     "output_type": "stream",
     "text": [
      "+--------------------+--------------------+----+-------------------+----+--------------------+-----+\n",
      "|             batters|             filling|  id|               name| ppu|             topping| type|\n",
      "+--------------------+--------------------+----+-------------------+----+--------------------+-----+\n",
      "|{[{1001, Regular}...|                NULL|0004|              Jelly|0.65|[{5001, None}, {5...|donut|\n",
      "|{[{1001, Regular}...|                NULL|0005|     Custard-Filled|0.75|[{5001, None}, {5...|donut|\n",
      "|{[{1001, Regular}...|[{6001, None}, {6...|0006|     Cinnamon Twist|0.85|[{5001, None}, {5...|donut|\n",
      "|{[{1001, Regular}...|                NULL|0007|    Vanilla Frosted|0.75|[{5001, None}, {5...|donut|\n",
      "|{[{1001, Regular}...|                NULL|0008| Strawberry Frosted|0.85|[{5001, None}, {5...|donut|\n",
      "|{[{1001, Regular}...|                NULL|0009|     Chocolate Cake|0.75|[{5001, None}, {5...|donut|\n",
      "|{[{1001, Regular}...|                NULL|0010|     Blueberry Cake|0.55|[{5001, None}, {5...|donut|\n",
      "|{[{1001, Regular}...|                NULL|0011|  Devil's Food Cake|0.75|[{5001, None}, {5...|donut|\n",
      "|{[{1001, Regular}...|                NULL|0012|        Jelly Donut|0.65|[{5001, None}, {5...|donut|\n",
      "| {[{1001, Regular}]}|                NULL|0013|       Raised Donut|0.55|[{5001, None}, {5...|donut|\n",
      "|{[{1001, Regular}...|                NULL|0014|Old Fashioned Donut|0.75|[{5001, None}, {5...|donut|\n",
      "| {[{1001, Regular}]}|                NULL|0015|            Cruller|0.85|[{5001, None}, {5...|donut|\n",
      "|{[{1001, Regular}...|[{6001, None}, {6...|0016|       Filled Donut|0.95|[{5001, None}, {5...|donut|\n",
      "|{[{1001, Regular}...|                NULL|0017|      Old Fashioned|0.65|[{5001, None}, {5...|donut|\n",
      "| {[{1001, Regular}]}|                NULL|0018|            Regular|0.55|[{5001, None}, {5...|donut|\n",
      "| {[{1001, Regular}]}|[{6001, None}, {6...|0019|          Blueberry|0.75|[{5002, Glazed}, ...|donut|\n",
      "|{[{1001, Regular}...|                NULL|0004|              Jelly|0.65|[{5001, None}, {5...|donut|\n",
      "| {[{1001, Regular}]}|                NULL|0020|       Devil's Food|0.75|[{5002, Glazed}, ...|donut|\n",
      "|{[{1001, Regular}...|                NULL|0021|      Vanilla Cream|0.75|[{5002, Glazed}, ...|donut|\n",
      "+--------------------+--------------------+----+-------------------+----+--------------------+-----+\n",
      "\n"
     ]
    }
   ],
   "source": [
    "file_merged = file_1.union(file_2).union(file_3)\n",
    "file_merged.show()"
   ]
  },
  {
   "cell_type": "code",
   "execution_count": 36,
   "metadata": {},
   "outputs": [],
   "source": [
    "file_merged.write.format(\"json\").mode(\"overwrite\").save(\"s3a://data/data-result/result\")"
   ]
  },
  {
   "cell_type": "code",
   "execution_count": 37,
   "metadata": {},
   "outputs": [
    {
     "name": "stdout",
     "output_type": "stream",
     "text": [
      "+--------------------+--------------------+----+-------------------+----+--------------------+-----+\n",
      "|             batters|             filling|  id|               name| ppu|             topping| type|\n",
      "+--------------------+--------------------+----+-------------------+----+--------------------+-----+\n",
      "|{[{1001, Regular}...|                NULL|0004|              Jelly|0.65|[{5001, None}, {5...|donut|\n",
      "|{[{1001, Regular}...|                NULL|0005|     Custard-Filled|0.75|[{5001, None}, {5...|donut|\n",
      "|{[{1001, Regular}...|[{6001, None}, {6...|0006|     Cinnamon Twist|0.85|[{5001, None}, {5...|donut|\n",
      "|{[{1001, Regular}...|                NULL|0007|    Vanilla Frosted|0.75|[{5001, None}, {5...|donut|\n",
      "|{[{1001, Regular}...|                NULL|0008| Strawberry Frosted|0.85|[{5001, None}, {5...|donut|\n",
      "|{[{1001, Regular}...|                NULL|0009|     Chocolate Cake|0.75|[{5001, None}, {5...|donut|\n",
      "|{[{1001, Regular}...|                NULL|0010|     Blueberry Cake|0.55|[{5001, None}, {5...|donut|\n",
      "|{[{1001, Regular}...|                NULL|0011|  Devil's Food Cake|0.75|[{5001, None}, {5...|donut|\n",
      "|{[{1001, Regular}...|                NULL|0017|      Old Fashioned|0.65|[{5001, None}, {5...|donut|\n",
      "| {[{1001, Regular}]}|                NULL|0018|            Regular|0.55|[{5001, None}, {5...|donut|\n",
      "| {[{1001, Regular}]}|[{6001, None}, {6...|0019|          Blueberry|0.75|[{5002, Glazed}, ...|donut|\n",
      "|{[{1001, Regular}...|                NULL|0004|              Jelly|0.65|[{5001, None}, {5...|donut|\n",
      "| {[{1001, Regular}]}|                NULL|0020|       Devil's Food|0.75|[{5002, Glazed}, ...|donut|\n",
      "|{[{1001, Regular}...|                NULL|0021|      Vanilla Cream|0.75|[{5002, Glazed}, ...|donut|\n",
      "|{[{1001, Regular}...|                NULL|0012|        Jelly Donut|0.65|[{5001, None}, {5...|donut|\n",
      "| {[{1001, Regular}]}|                NULL|0013|       Raised Donut|0.55|[{5001, None}, {5...|donut|\n",
      "|{[{1001, Regular}...|                NULL|0014|Old Fashioned Donut|0.75|[{5001, None}, {5...|donut|\n",
      "| {[{1001, Regular}]}|                NULL|0015|            Cruller|0.85|[{5001, None}, {5...|donut|\n",
      "|{[{1001, Regular}...|[{6001, None}, {6...|0016|       Filled Donut|0.95|[{5001, None}, {5...|donut|\n",
      "+--------------------+--------------------+----+-------------------+----+--------------------+-----+\n",
      "\n"
     ]
    }
   ],
   "source": [
    "df = spark.read.format(\"json\").load(\"s3a://data/data-result/result\")\n",
    "df.show()"
   ]
  },
  {
   "cell_type": "markdown",
   "metadata": {},
   "source": [
    "### Remove Duplicate"
   ]
  },
  {
   "cell_type": "code",
   "execution_count": 39,
   "metadata": {},
   "outputs": [],
   "source": [
    "file_merged = file_merged.dropDuplicates()"
   ]
  },
  {
   "cell_type": "code",
   "execution_count": 40,
   "metadata": {},
   "outputs": [],
   "source": [
    "file_merged.write.format(\"parquet\").mode(\"overwrite\").save(\"s3a://data/data-result/result\")"
   ]
  },
  {
   "cell_type": "code",
   "execution_count": 41,
   "metadata": {},
   "outputs": [
    {
     "name": "stdout",
     "output_type": "stream",
     "text": [
      "+--------------------+--------------------+----+-------------------+----+--------------------+-----+\n",
      "|             batters|             filling|  id|               name| ppu|             topping| type|\n",
      "+--------------------+--------------------+----+-------------------+----+--------------------+-----+\n",
      "|{[{1001, Regular}...|                NULL|0004|              Jelly|0.65|[{5001, None}, {5...|donut|\n",
      "|{[{1001, Regular}...|                NULL|0011|  Devil's Food Cake|0.75|[{5001, None}, {5...|donut|\n",
      "|{[{1001, Regular}...|                NULL|0010|     Blueberry Cake|0.55|[{5001, None}, {5...|donut|\n",
      "|{[{1001, Regular}...|                NULL|0007|    Vanilla Frosted|0.75|[{5001, None}, {5...|donut|\n",
      "|{[{1001, Regular}...|[{6001, None}, {6...|0006|     Cinnamon Twist|0.85|[{5001, None}, {5...|donut|\n",
      "|{[{1001, Regular}...|                NULL|0009|     Chocolate Cake|0.75|[{5001, None}, {5...|donut|\n",
      "|{[{1001, Regular}...|                NULL|0005|     Custard-Filled|0.75|[{5001, None}, {5...|donut|\n",
      "|{[{1001, Regular}...|                NULL|0008| Strawberry Frosted|0.85|[{5001, None}, {5...|donut|\n",
      "|{[{1001, Regular}...|[{6001, None}, {6...|0016|       Filled Donut|0.95|[{5001, None}, {5...|donut|\n",
      "| {[{1001, Regular}]}|                NULL|0013|       Raised Donut|0.55|[{5001, None}, {5...|donut|\n",
      "|{[{1001, Regular}...|                NULL|0014|Old Fashioned Donut|0.75|[{5001, None}, {5...|donut|\n",
      "|{[{1001, Regular}...|                NULL|0012|        Jelly Donut|0.65|[{5001, None}, {5...|donut|\n",
      "| {[{1001, Regular}]}|                NULL|0015|            Cruller|0.85|[{5001, None}, {5...|donut|\n",
      "| {[{1001, Regular}]}|                NULL|0018|            Regular|0.55|[{5001, None}, {5...|donut|\n",
      "|{[{1001, Regular}...|                NULL|0021|      Vanilla Cream|0.75|[{5002, Glazed}, ...|donut|\n",
      "| {[{1001, Regular}]}|[{6001, None}, {6...|0019|          Blueberry|0.75|[{5002, Glazed}, ...|donut|\n",
      "|{[{1001, Regular}...|                NULL|0017|      Old Fashioned|0.65|[{5001, None}, {5...|donut|\n",
      "| {[{1001, Regular}]}|                NULL|0020|       Devil's Food|0.75|[{5002, Glazed}, ...|donut|\n",
      "+--------------------+--------------------+----+-------------------+----+--------------------+-----+\n",
      "\n"
     ]
    }
   ],
   "source": [
    "df = spark.read.format(\"parquet\").load(\"s3a://data/data-result/result\")\n",
    "df.show()"
   ]
  }
 ],
 "metadata": {
  "kernelspec": {
   "display_name": ".venv",
   "language": "python",
   "name": "python3"
  },
  "language_info": {
   "codemirror_mode": {
    "name": "ipython",
    "version": 3
   },
   "file_extension": ".py",
   "mimetype": "text/x-python",
   "name": "python",
   "nbconvert_exporter": "python",
   "pygments_lexer": "ipython3",
   "version": "3.8.19"
  }
 },
 "nbformat": 4,
 "nbformat_minor": 2
}
