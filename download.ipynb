{
 "cells": [
  {
   "cell_type": "markdown",
   "metadata": {},
   "source": [
    "This file should only be used to contain the code used to download data by using the selenium \n",
    "\n",
    "and\n",
    "\n",
    "Upload data to minio"
   ]
  },
  {
   "cell_type": "code",
   "execution_count": 13,
   "metadata": {},
   "outputs": [
    {
     "name": "stdout",
     "output_type": "stream",
     "text": [
      "Requirement already satisfied: boto3 in c:\\users\\admin\\micromamba\\envs\\ictmm\\lib\\site-packages (1.34.69)Note: you may need to restart the kernel to use updated packages.\n",
      "\n",
      "Requirement already satisfied: botocore<1.35.0,>=1.34.69 in c:\\users\\admin\\micromamba\\envs\\ictmm\\lib\\site-packages (from boto3) (1.34.69)\n",
      "Requirement already satisfied: jmespath<2.0.0,>=0.7.1 in c:\\users\\admin\\micromamba\\envs\\ictmm\\lib\\site-packages (from boto3) (1.0.1)\n",
      "Requirement already satisfied: s3transfer<0.11.0,>=0.10.0 in c:\\users\\admin\\micromamba\\envs\\ictmm\\lib\\site-packages (from boto3) (0.10.1)\n",
      "Requirement already satisfied: python-dateutil<3.0.0,>=2.1 in c:\\users\\admin\\micromamba\\envs\\ictmm\\lib\\site-packages (from botocore<1.35.0,>=1.34.69->boto3) (2.9.0)\n",
      "Requirement already satisfied: urllib3<1.27,>=1.25.4 in c:\\users\\admin\\micromamba\\envs\\ictmm\\lib\\site-packages (from botocore<1.35.0,>=1.34.69->boto3) (1.26.18)\n",
      "Requirement already satisfied: six>=1.5 in c:\\users\\admin\\micromamba\\envs\\ictmm\\lib\\site-packages (from python-dateutil<3.0.0,>=2.1->botocore<1.35.0,>=1.34.69->boto3) (1.16.0)\n",
      "Requirement already satisfied: selenium in c:\\users\\admin\\micromamba\\envs\\ictmm\\lib\\site-packages (4.18.1)Note: you may need to restart the kernel to use updated packages.\n",
      "\n",
      "Requirement already satisfied: chromedriver-binary in c:\\users\\admin\\micromamba\\envs\\ictmm\\lib\\site-packages (125.0.6377.0.0)\n",
      "Requirement already satisfied: python-dotenv in c:\\users\\admin\\micromamba\\envs\\ictmm\\lib\\site-packages (1.0.1)\n",
      "Requirement already satisfied: pyspark in c:\\users\\admin\\micromamba\\envs\\ictmm\\lib\\site-packages (3.5.1)\n",
      "Collecting webdriver-manager\n",
      "  Downloading webdriver_manager-4.0.1-py2.py3-none-any.whl.metadata (12 kB)\n",
      "Requirement already satisfied: urllib3<3,>=1.26 in c:\\users\\admin\\micromamba\\envs\\ictmm\\lib\\site-packages (from urllib3[socks]<3,>=1.26->selenium) (1.26.18)\n",
      "Requirement already satisfied: trio~=0.17 in c:\\users\\admin\\micromamba\\envs\\ictmm\\lib\\site-packages (from selenium) (0.25.0)\n",
      "Requirement already satisfied: trio-websocket~=0.9 in c:\\users\\admin\\micromamba\\envs\\ictmm\\lib\\site-packages (from selenium) (0.11.1)\n",
      "Requirement already satisfied: certifi>=2021.10.8 in c:\\users\\admin\\micromamba\\envs\\ictmm\\lib\\site-packages (from selenium) (2024.2.2)\n",
      "Requirement already satisfied: typing_extensions>=4.9.0 in c:\\users\\admin\\micromamba\\envs\\ictmm\\lib\\site-packages (from selenium) (4.10.0)\n",
      "Requirement already satisfied: py4j==0.10.9.7 in c:\\users\\admin\\micromamba\\envs\\ictmm\\lib\\site-packages (from pyspark) (0.10.9.7)\n",
      "Collecting requests (from webdriver-manager)\n",
      "  Downloading requests-2.31.0-py3-none-any.whl.metadata (4.6 kB)\n",
      "Requirement already satisfied: packaging in c:\\users\\admin\\micromamba\\envs\\ictmm\\lib\\site-packages (from webdriver-manager) (24.0)\n",
      "Requirement already satisfied: attrs>=23.2.0 in c:\\users\\admin\\micromamba\\envs\\ictmm\\lib\\site-packages (from trio~=0.17->selenium) (23.2.0)\n",
      "Requirement already satisfied: sortedcontainers in c:\\users\\admin\\micromamba\\envs\\ictmm\\lib\\site-packages (from trio~=0.17->selenium) (2.4.0)\n",
      "Requirement already satisfied: idna in c:\\users\\admin\\micromamba\\envs\\ictmm\\lib\\site-packages (from trio~=0.17->selenium) (3.6)\n",
      "Requirement already satisfied: outcome in c:\\users\\admin\\micromamba\\envs\\ictmm\\lib\\site-packages (from trio~=0.17->selenium) (1.3.0.post0)\n",
      "Requirement already satisfied: sniffio>=1.3.0 in c:\\users\\admin\\micromamba\\envs\\ictmm\\lib\\site-packages (from trio~=0.17->selenium) (1.3.1)\n",
      "Requirement already satisfied: cffi>=1.14 in c:\\users\\admin\\micromamba\\envs\\ictmm\\lib\\site-packages (from trio~=0.17->selenium) (1.16.0)\n",
      "Requirement already satisfied: exceptiongroup in c:\\users\\admin\\micromamba\\envs\\ictmm\\lib\\site-packages (from trio~=0.17->selenium) (1.2.0)\n",
      "Requirement already satisfied: wsproto>=0.14 in c:\\users\\admin\\micromamba\\envs\\ictmm\\lib\\site-packages (from trio-websocket~=0.9->selenium) (1.2.0)\n",
      "Requirement already satisfied: PySocks!=1.5.7,<2.0,>=1.5.6 in c:\\users\\admin\\micromamba\\envs\\ictmm\\lib\\site-packages (from urllib3[socks]<3,>=1.26->selenium) (1.7.1)\n",
      "Collecting charset-normalizer<4,>=2 (from requests->webdriver-manager)\n",
      "  Downloading charset_normalizer-3.3.2-cp38-cp38-win_amd64.whl.metadata (34 kB)\n",
      "Requirement already satisfied: pycparser in c:\\users\\admin\\micromamba\\envs\\ictmm\\lib\\site-packages (from cffi>=1.14->trio~=0.17->selenium) (2.21)\n",
      "Requirement already satisfied: h11<1,>=0.9.0 in c:\\users\\admin\\micromamba\\envs\\ictmm\\lib\\site-packages (from wsproto>=0.14->trio-websocket~=0.9->selenium) (0.14.0)\n",
      "Downloading webdriver_manager-4.0.1-py2.py3-none-any.whl (27 kB)\n",
      "Downloading requests-2.31.0-py3-none-any.whl (62 kB)\n",
      "   ---------------------------------------- 0.0/62.6 kB ? eta -:--:--\n",
      "   ---------------------------------------- 62.6/62.6 kB 1.7 MB/s eta 0:00:00\n",
      "Downloading charset_normalizer-3.3.2-cp38-cp38-win_amd64.whl (99 kB)\n",
      "   ---------------------------------------- 0.0/99.6 kB ? eta -:--:--\n",
      "   ---------------------------------------- 99.6/99.6 kB ? eta 0:00:00\n",
      "Installing collected packages: charset-normalizer, requests, webdriver-manager\n",
      "Successfully installed charset-normalizer-3.3.2 requests-2.31.0 webdriver-manager-4.0.1\n"
     ]
    }
   ],
   "source": [
    "%pip install boto3\n",
    "# Libraries maybe you need to install in your environment to use selenium and chromedriver below\n",
    "%pip install selenium chromedriver-binary python-dotenv webdriver-manager"
   ]
  },
  {
   "cell_type": "code",
   "execution_count": 5,
   "metadata": {},
   "outputs": [],
   "source": [
    "import os\n",
    "import boto3\n",
    "from dotenv import load_dotenv"
   ]
  },
  {
   "cell_type": "code",
   "execution_count": 6,
   "metadata": {},
   "outputs": [
    {
     "data": {
      "text/plain": [
       "True"
      ]
     },
     "execution_count": 6,
     "metadata": {},
     "output_type": "execute_result"
    }
   ],
   "source": [
    "# The file download processing section should be placed here\n",
    "load_dotenv()\n",
    "#..........................................................."
   ]
  },
  {
   "cell_type": "code",
   "execution_count": 7,
   "metadata": {},
   "outputs": [],
   "source": [
    "# Define S3 storage\n",
    "obj_storage_access_key = os.getenv('OBJ_STORAGE_ACCESS_KEY', 'demo-access-key')\n",
    "obj_storage_secret_key = os.getenv('OBJ_STORAGE_SECRET_KEY', 'demo-secret-key')\n",
    "obj_storage_endpoint = os.getenv('OBJ_STORAGE_ENDPOINT', 'http://localhost:9000')"
   ]
  },
  {
   "cell_type": "code",
   "execution_count": 8,
   "metadata": {},
   "outputs": [],
   "source": [
    "# Function to upload file to minio\n",
    "def upload_file_to_minio(file_path, minio_bucket, minio_object_name):\n",
    "    s3c = boto3.resource('s3',\n",
    "                        endpoint_url=obj_storage_endpoint,\n",
    "                        aws_access_key_id=obj_storage_access_key,\n",
    "                        aws_secret_access_key=obj_storage_secret_key,\n",
    "                        config=boto3.session.Config(signature_version='s3v4'),\n",
    "                        verify=False\n",
    "                        )\n",
    "    s3c.Bucket(minio_bucket).upload_file(file_path, minio_object_name)"
   ]
  },
  {
   "cell_type": "code",
   "execution_count": 45,
   "metadata": {},
   "outputs": [],
   "source": [
    "from selenium import webdriver\n",
    "from selenium.webdriver.chrome.options import Options\n",
    "from selenium.webdriver.chrome.service import Service as ChromeService\n",
    "from webdriver_manager.chrome import ChromeDriverManager\n",
    "from selenium.webdriver.support.ui import WebDriverWait\n",
    "from selenium.webdriver.support import expected_conditions as EC\n",
    "from selenium.webdriver.common.by import By\n",
    "import time\n",
    "\n",
    "\n",
    "options = Options()\n",
    "\n",
    "# Thiết lập thư mục tải xuống\n",
    "prefs = {\"download.default_directory\": r\"C:\\Users\\admin\\icttm-test\"}\n",
    "options.add_experimental_option(\"prefs\", prefs)\n",
    "\n",
    "driver = webdriver.Chrome(service=ChromeService(ChromeDriverManager().install()), options=options)\n",
    "\n",
    "def find_element(by, locator):\n",
    "    wait = WebDriverWait(driver, 10)\n",
    "    return wait.until(EC.presence_of_element_located((by, locator)))\n",
    "\n",
    "url = \"https://drive.google.com/drive/folders/1EImvKyUQ_iJCfd2h-Dxjn_sqPyDV5tFC?usp=sharing\"\n",
    "\n",
    "driver.get(url)\n",
    "\n",
    "download_button = find_element(By.XPATH, '//*[@id=\":1\"]/div/c-wiz/div/c-wiz/div[1]/c-wiz/div[2]/c-wiz/div[1]/c-wiz/c-wiz/div/c-wiz/div/div/div/div[2]/div/div')\n",
    "download_button.click()\n",
    "\n",
    "time.sleep(3)\n",
    "\n",
    "open_button = find_element(By.XPATH, '/html/body/div[12]/div[4]/div/div[3]/div[2]/div[2]/div[3]')\n",
    "open_button.click()\n"
   ]
  },
  {
   "cell_type": "code",
   "execution_count": 47,
   "metadata": {},
   "outputs": [],
   "source": [
    "from pathlib import Path\n",
    "import zipfile\n",
    "\n",
    "zip_file_path = Path('data.zip')\n",
    "extract_dir = Path('data_raw')\n",
    "\n",
    "extract_dir.mkdir(parents=True, exist_ok=True)\n",
    "\n",
    "# Open the zip file\n",
    "with zipfile.ZipFile(zip_file_path, 'r') as zip_ref:\n",
    "        zip_ref.extractall(extract_dir)"
   ]
  },
  {
   "cell_type": "code",
   "execution_count": 48,
   "metadata": {},
   "outputs": [],
   "source": [
    "# Upload file to minio\n",
    "upload_file_to_minio('data_raw/data.json', 'data', 'data-raw/data.json')\n",
    "upload_file_to_minio('data_raw/data2.json', 'data', 'data-raw/data2.json')\n",
    "upload_file_to_minio('data_raw/data3.json', 'data', 'data-raw/data3.json')"
   ]
  }
 ],
 "metadata": {
  "kernelspec": {
   "display_name": ".venv",
   "language": "python",
   "name": "python3"
  },
  "language_info": {
   "codemirror_mode": {
    "name": "ipython",
    "version": 3
   },
   "file_extension": ".py",
   "mimetype": "text/x-python",
   "name": "python",
   "nbconvert_exporter": "python",
   "pygments_lexer": "ipython3",
   "version": "3.8.19"
  }
 },
 "nbformat": 4,
 "nbformat_minor": 2
}
